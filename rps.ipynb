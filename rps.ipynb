{
 "cells": [
  {
   "attachments": {},
   "cell_type": "markdown",
   "metadata": {},
   "source": [
    "# Yash Deshpande C003 B1"
   ]
  },
  {
   "attachments": {},
   "cell_type": "markdown",
   "metadata": {},
   "source": [
    "### Installing Necessary Dependencies "
   ]
  },
  {
   "cell_type": "code",
   "execution_count": null,
   "metadata": {},
   "outputs": [],
   "source": [
    "!pip install mediapipe opencv-python"
   ]
  },
  {
   "attachments": {},
   "cell_type": "markdown",
   "metadata": {},
   "source": [
    "### Importing Modules needed"
   ]
  },
  {
   "cell_type": "code",
   "execution_count": null,
   "metadata": {},
   "outputs": [],
   "source": [
    "import cv2,time,random\n",
    "import mediapipe as mp\n",
    "\n",
    "'''\n",
    "cv2 For video input and processing\n",
    "mediapipe is a ready to use ml solution by google\n",
    "Random For randomly making a choice for the computer\n",
    "Time for keeping track of time\n",
    "'''\n"
   ]
  },
  {
   "attachments": {},
   "cell_type": "markdown",
   "metadata": {},
   "source": [
    "### Initializing Variables"
   ]
  },
  {
   "cell_type": "code",
   "execution_count": null,
   "metadata": {},
   "outputs": [],
   "source": [
    "\n",
    "# First step is to initialize the Hands class an store it in a variable\n",
    "mp_hands = mp.solutions.hands\n",
    "\n",
    "# To set up the drawing function of hands landmarks on the image\n",
    "mp_drawing = mp.solutions.drawing_utils\n"
   ]
  },
  {
   "cell_type": "code",
   "execution_count": null,
   "metadata": {},
   "outputs": [],
   "source": [
    "'''Now to set the hands function which will hold the landmarks points\n",
    "static_image_mode: is basicaly whether you want an image input or a video input\n",
    "min_detection_confidence: This will detect hands with around 70% accuracy\n",
    "'''\n",
    "hands = mp_hands.Hands(static_image_mode=False,\n",
    "                       max_num_hands=1, min_detection_confidence=0.3)\n"
   ]
  },
  {
   "attachments": {},
   "cell_type": "markdown",
   "metadata": {},
   "source": [
    "### The Hand Landmark Model"
   ]
  },
  {
   "cell_type": "code",
   "execution_count": null,
   "metadata": {},
   "outputs": [],
   "source": [
    "from IPython.display import Image\n",
    "Image(\"hand_landmarks.png\")"
   ]
  },
  {
   "cell_type": "code",
   "execution_count": null,
   "metadata": {},
   "outputs": [],
   "source": [
    "'''\n",
    "1-Rock\n",
    "2-Paper\n",
    "3-Scissors\n",
    "'''\n",
    "user=0\n",
    "text=\"\"\n",
    "startofgame=False # To Start The Game\n",
    "startoftime=0 #Making the Initial Timing global \n",
    "timing=0 #for storing time for the user to make his move \n",
    "score=[0,0] # Computer and Human\n",
    "ai=False"
   ]
  },
  {
   "attachments": {},
   "cell_type": "markdown",
   "metadata": {},
   "source": [
    "### The Main Loop "
   ]
  },
  {
   "cell_type": "code",
   "execution_count": null,
   "metadata": {},
   "outputs": [],
   "source": [
    "cap = cv2.VideoCapture(0)  # Get the first posible webcam\n",
    "cap.set(3, 720) # Changing width of video input\n",
    "cap.set(4, 480) # Changing height of video input\n",
    "\n",
    "\n",
    "while cap.isOpened(): # Running The Loop when video is loaded properly\n",
    "    bg=cv2.imread(\"Rock Paper Scissors.png\") # Opencv reading the background \n",
    "    \n",
    "    cv2.putText(bg,\"Enter s to play\", (300, 1000), cv2.FONT_HERSHEY_SIMPLEX,2, (235, 111, 146),4)            \n",
    "    cv2.putText(bg,\"Enter q to stop\", (1200, 1000), cv2.FONT_HERSHEY_SIMPLEX,2, (235, 111, 146),4)            \n",
    "    cv2.putText(bg,f\"{score[0],score[1]}\", (900, 870) , cv2.FONT_HERSHEY_SIMPLEX,2, (235, 111, 146),4)            \n",
    "    if ai: # This is for displaying images of rps when its a draw or when ai wins\n",
    "        comp=cv2.imread(f\"{randomnum}.png\")\n",
    "        width,height,k= comp.shape # Getting the tuple of rows, columns, and channels and unpacking them\n",
    "        bg[500:width+500,300:height+300]=comp # Superimposing the respective image in the background by replacing the background matrix with that of that image of rps\n",
    "\n",
    "    ret,frame=cap.read()\n",
    "\n",
    "    '''\n",
    "    Reading the video input.\n",
    "    ret is  a boolean variable that returns true if the frame is available\n",
    "    frame is an image array vector captured based on the default frames per second defined explicitly or implicitly\n",
    "    '''\n",
    "\n",
    "    # if frame is read correctly ret is True# First step is to initialize the Hands class an store it in a variable\n",
    "    if not ret:\n",
    "        print(\"Can't receive frame, terminating now ...\")\n",
    "        break\n",
    "   \n",
    "    frame = cv2.flip(frame, 1)  # For mirroring the video\n",
    "\n",
    "    # opecv reads and interprets images in brg format (due to historic reasons) but mediapipe needs rgb so we convert it\n",
    "    results = hands.process(cv2.cvtColor(frame, cv2.COLOR_BGR2RGB))\n",
    "    \n",
    "    if results.multi_hand_landmarks: # This a list of x,y,z coordinates of each landmark of the hand in the video input\n",
    "        hand_landmarks = results.multi_hand_landmarks[0]\n",
    "        mp_drawing.draw_landmarks(frame, hand_landmarks, mp_hands.HAND_CONNECTIONS, \n",
    "                                    mp_drawing.DrawingSpec(color=(121, 22, 76), thickness=2, circle_radius=4),\n",
    "                                    mp_drawing.DrawingSpec(color=(250, 44, 250), thickness=2, circle_radius=2),\n",
    "                                        ) # Drawing Landmarks on Hand\n",
    "        for point in mp_hands.HandLandmark: # This is for getting y coordinates of TIPs and PIPs of each finger \n",
    "            indextip=hand_landmarks.landmark[point.INDEX_FINGER_TIP].y \n",
    "            middletip=hand_landmarks.landmark[point.MIDDLE_FINGER_TIP].y \n",
    "            ringtip=hand_landmarks.landmark[point.RING_FINGER_TIP].y \n",
    "            pinkytip=hand_landmarks.landmark[point.PINKY_TIP].y \n",
    "\n",
    "            indexpip=hand_landmarks.landmark[point.INDEX_FINGER_PIP].y \n",
    "            middlepip=hand_landmarks.landmark[point.MIDDLE_FINGER_PIP].y \n",
    "            ringpip=hand_landmarks.landmark[point.RING_FINGER_PIP].y \n",
    "            pinkypip=hand_landmarks.landmark[point.PINKY_PIP].y \n",
    "\n",
    "            #When index and ring fingers tips are above the pips it is scissors\n",
    "            if middletip<middlepip and indextip<indexpip and ringtip>ringpip and pinkytip>pinkypip:\n",
    "                user=3 #Scissors\n",
    "            # When all the tips are bellow the pips\n",
    "            elif middletip>middlepip and indextip>indexpip and ringtip>ringpip and pinkytip>pinkypip:\n",
    "                user=1 # Rock\n",
    "            # When all the tips are above the pips\n",
    "            elif middletip<middlepip and indextip<indexpip and ringtip<ringpip and pinkytip<pinkypip:\n",
    "                user=2 # Paper\n",
    "            else:\n",
    "                user=0\n",
    "    \n",
    "    if startofgame: # Starting the game only when user says so\n",
    "        cv2.putText(bg,str(round((time.time() - startoftime))), (900, 700), cv2.FONT_HERSHEY_SIMPLEX,3, (235, 111, 146),4) #Displaying The Score         \n",
    "        randomnum=random.randint(1,3) # Computers Choice\n",
    "        ai=False # To remove the rps image for a new fresh game\n",
    "        text=\"\" # Removing the text on display after each game\n",
    "\n",
    "        if (time.time() - startoftime) >= 3 :\n",
    "            if (user == 1 and randomnum == 3) or (user == 2 and randomnum == 1) or (user == 3 and randomnum == 2):\n",
    "                score[1]+=1\n",
    "                text=\"You Win!\"\n",
    "                ai=True\n",
    "            elif (user == 3 and randomnum == 1) or (user == 1 and randomnum == 2) or (user == 2 and randomnum == 3):\n",
    "                score[0] += 1\n",
    "                text=\"PC Wins!\"\n",
    "                ai=True\n",
    "            elif (user == 1 and randomnum == 1) or (user == 2 and randomnum == 2) or (user == 3 and randomnum == 3):\n",
    "                text=\"Draw!\"\n",
    "                ai=True\n",
    "            startofgame=False\n",
    "\n",
    "    cv2.putText(bg,text, (800, 600), cv2.FONT_HERSHEY_SIMPLEX,3, (235, 111, 146),4) # Puts anything in the text variable on display           \n",
    "    cv2.imshow(\"Background\",bg) # Displaying the background\n",
    "    cv2.imshow('Player', frame)  # Displaying the video\n",
    "\n",
    "    key=cv2.waitKey(10) # Waiting for 0.01 seconds for user to start the game or exit the game\n",
    "    if key == ord('s'): # Starting the game\n",
    "        startoftime=time.time() # Getting current secconds from the unix epoch January 1, 1970 in seconds\n",
    "        startofgame=True\n",
    "    if key == ord ('r'):\n",
    "        score=[0,0   ]\n",
    "    \n",
    "    if key == ord('q'):  # quitting when user enters q to quit the program\n",
    "        break\n",
    "        \n",
    "else:\n",
    "    print(\"Video Not Opened,Exiting\")\n"
   ]
  },
  {
   "cell_type": "code",
   "execution_count": null,
   "metadata": {},
   "outputs": [],
   "source": [
    "cap.release()\n",
    "cv2.destroyAllWindows()"
   ]
  }
 ],
 "metadata": {
  "kernelspec": {
   "display_name": "Python 3",
   "language": "python",
   "name": "python3"
  },
  "language_info": {
   "codemirror_mode": {
    "name": "ipython",
    "version": 3
   },
   "file_extension": ".py",
   "mimetype": "text/x-python",
   "name": "python",
   "nbconvert_exporter": "python",
   "pygments_lexer": "ipython3",
   "version": "3.10.10"
  },
  "orig_nbformat": 4
 },
 "nbformat": 4,
 "nbformat_minor": 2
}
